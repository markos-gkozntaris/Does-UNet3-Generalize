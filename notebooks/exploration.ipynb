{
 "cells": [
  {
   "cell_type": "code",
   "execution_count": 7,
   "metadata": {},
   "outputs": [],
   "source": [
    "import os\n",
    "\n",
    "import pandas as pd"
   ]
  },
  {
   "cell_type": "code",
   "execution_count": 10,
   "metadata": {},
   "outputs": [
    {
     "data": {
      "text/html": [
       "<div>\n",
       "<style scoped>\n",
       "    .dataframe tbody tr th:only-of-type {\n",
       "        vertical-align: middle;\n",
       "    }\n",
       "\n",
       "    .dataframe tbody tr th {\n",
       "        vertical-align: top;\n",
       "    }\n",
       "\n",
       "    .dataframe thead th {\n",
       "        text-align: right;\n",
       "    }\n",
       "</style>\n",
       "<table border=\"1\" class=\"dataframe\">\n",
       "  <thead>\n",
       "    <tr style=\"text-align: right;\">\n",
       "      <th></th>\n",
       "      <th>dirname</th>\n",
       "      <th>filename</th>\n",
       "    </tr>\n",
       "  </thead>\n",
       "  <tbody>\n",
       "    <tr>\n",
       "      <th>0</th>\n",
       "      <td>../data/LiverCT/volume_pt5</td>\n",
       "      <td>volume-41.nii</td>\n",
       "    </tr>\n",
       "    <tr>\n",
       "      <th>1</th>\n",
       "      <td>../data/LiverCT/volume_pt5</td>\n",
       "      <td>volume-46.nii</td>\n",
       "    </tr>\n",
       "    <tr>\n",
       "      <th>2</th>\n",
       "      <td>../data/LiverCT/volume_pt5</td>\n",
       "      <td>volume-48.nii</td>\n",
       "    </tr>\n",
       "    <tr>\n",
       "      <th>3</th>\n",
       "      <td>../data/LiverCT/volume_pt5</td>\n",
       "      <td>volume-47.nii</td>\n",
       "    </tr>\n",
       "    <tr>\n",
       "      <th>4</th>\n",
       "      <td>../data/LiverCT/volume_pt5</td>\n",
       "      <td>volume-43.nii</td>\n",
       "    </tr>\n",
       "    <tr>\n",
       "      <th>...</th>\n",
       "      <td>...</td>\n",
       "      <td>...</td>\n",
       "    </tr>\n",
       "    <tr>\n",
       "      <th>177</th>\n",
       "      <td>../data/LiverCT/volume_pt1</td>\n",
       "      <td>volume-9.nii</td>\n",
       "    </tr>\n",
       "    <tr>\n",
       "      <th>178</th>\n",
       "      <td>../data/LiverCT/volume_pt1</td>\n",
       "      <td>volume-3.nii</td>\n",
       "    </tr>\n",
       "    <tr>\n",
       "      <th>179</th>\n",
       "      <td>../data/LiverCT/volume_pt1</td>\n",
       "      <td>volume-0.nii</td>\n",
       "    </tr>\n",
       "    <tr>\n",
       "      <th>180</th>\n",
       "      <td>../data/LiverCT/volume_pt1</td>\n",
       "      <td>volume-8.nii</td>\n",
       "    </tr>\n",
       "    <tr>\n",
       "      <th>181</th>\n",
       "      <td>../data/LiverCT/volume_pt1</td>\n",
       "      <td>volume-10.nii</td>\n",
       "    </tr>\n",
       "  </tbody>\n",
       "</table>\n",
       "<p>182 rows × 2 columns</p>\n",
       "</div>"
      ],
      "text/plain": [
       "                        dirname       filename\n",
       "0    ../data/LiverCT/volume_pt5  volume-41.nii\n",
       "1    ../data/LiverCT/volume_pt5  volume-46.nii\n",
       "2    ../data/LiverCT/volume_pt5  volume-48.nii\n",
       "3    ../data/LiverCT/volume_pt5  volume-47.nii\n",
       "4    ../data/LiverCT/volume_pt5  volume-43.nii\n",
       "..                          ...            ...\n",
       "177  ../data/LiverCT/volume_pt1   volume-9.nii\n",
       "178  ../data/LiverCT/volume_pt1   volume-3.nii\n",
       "179  ../data/LiverCT/volume_pt1   volume-0.nii\n",
       "180  ../data/LiverCT/volume_pt1   volume-8.nii\n",
       "181  ../data/LiverCT/volume_pt1  volume-10.nii\n",
       "\n",
       "[182 rows x 2 columns]"
      ]
     },
     "execution_count": 10,
     "metadata": {},
     "output_type": "execute_result"
    }
   ],
   "source": [
    "file_list = []\n",
    "for dirname, _, filenames in os.walk('../data/LiverCT'):\n",
    "    for filename in filenames:\n",
    "        file_list.append((dirname, filename))\n",
    "\n",
    "df_files = pd.DataFrame(file_list, columns=['dirname', 'filename'])\n",
    "df_files"
   ]
  }
 ],
 "metadata": {
  "interpreter": {
   "hash": "e35c14a8caca76198b34fb255762891fb38351c0ec24f1fa8546521f6a1a9596"
  },
  "kernelspec": {
   "display_name": "Python 3.8.10 ('base')",
   "language": "python",
   "name": "python3"
  },
  "language_info": {
   "codemirror_mode": {
    "name": "ipython",
    "version": 3
   },
   "file_extension": ".py",
   "mimetype": "text/x-python",
   "name": "python",
   "nbconvert_exporter": "python",
   "pygments_lexer": "ipython3",
   "version": "3.8.10"
  },
  "orig_nbformat": 4
 },
 "nbformat": 4,
 "nbformat_minor": 2
}
